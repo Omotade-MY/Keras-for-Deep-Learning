{
 "cells": [
  {
   "cell_type": "code",
   "execution_count": 7,
   "id": "e165d15f",
   "metadata": {},
   "outputs": [],
   "source": [
    "from keras.models import Sequential\n",
    "from keras.layers import Dense\n",
    "import numpy as np\n",
    "import pandas as pd\n",
    "seed = 7\n",
    "np.random.seed(seed)"
   ]
  },
  {
   "cell_type": "code",
   "execution_count": 20,
   "id": "4a3869ef",
   "metadata": {},
   "outputs": [
    {
     "name": "stdout",
     "output_type": "stream",
     "text": [
      "Shape of data\n",
      " (768, 9)\n"
     ]
    }
   ],
   "source": [
    "# load in the dataset\n",
    "dataset = pd.read_csv('diabetes.csv', delimiter=',').values\n",
    "print('Shape of data\\n',dataset.shape)\n",
    "\n",
    "# Splitting the dataset in to features and target\n",
    "X = dataset[:,:8]\n",
    "y = dataset[:,8]"
   ]
  },
  {
   "cell_type": "code",
   "execution_count": 94,
   "id": "dc27ad27",
   "metadata": {},
   "outputs": [],
   "source": [
    "# creating a model with keras\n",
    "model = Sequential()\n",
    "model.add(Dense(12, input_dim=8, activation='relu'))\n",
    "model.add(Dense(8, activation='relu'))\n",
    "model.add(Dense(1, activation='sigmoid'))"
   ]
  },
  {
   "cell_type": "code",
   "execution_count": 95,
   "id": "e4552ae3",
   "metadata": {},
   "outputs": [],
   "source": [
    "# compiling the model \n",
    "model.compile(optimizer='adam', loss='binary_crossentropy', metrics=['accuracy'])"
   ]
  },
  {
   "cell_type": "code",
   "execution_count": 96,
   "id": "5d55b87b",
   "metadata": {},
   "outputs": [],
   "source": [
    "from sklearn.model_selection import train_test_split\n",
    "X_train, X_test, y_train, y_test = train_test_split(X,y, test_size=0.2,)"
   ]
  },
  {
   "cell_type": "code",
   "execution_count": 97,
   "id": "d6e4419b",
   "metadata": {},
   "outputs": [
    {
     "name": "stdout",
     "output_type": "stream",
     "text": [
      "Epoch 1/15\n",
      " 2/62 [..............................] - ETA: 2s - loss: 26.8655 - accuracy: 0.4500WARNING:tensorflow:Callbacks method `on_train_batch_end` is slow compared to the batch time (batch time: 0.0050s vs `on_train_batch_end` time: 0.0120s). Check your callbacks.\n",
      "62/62 [==============================] - 1s 16ms/step - loss: 15.1910 - accuracy: 0.3746 - val_loss: 3.8508 - val_accuracy: 0.5455\n",
      "Epoch 2/15\n",
      "62/62 [==============================] - 0s 6ms/step - loss: 2.1670 - accuracy: 0.5945 - val_loss: 1.5158 - val_accuracy: 0.5974\n",
      "Epoch 3/15\n",
      "62/62 [==============================] - 0s 7ms/step - loss: 1.2215 - accuracy: 0.5619 - val_loss: 1.4714 - val_accuracy: 0.5390\n",
      "Epoch 4/15\n",
      "62/62 [==============================] - 0s 6ms/step - loss: 1.0844 - accuracy: 0.5928 - val_loss: 1.1912 - val_accuracy: 0.5065\n",
      "Epoch 5/15\n",
      "62/62 [==============================] - 0s 8ms/step - loss: 0.9229 - accuracy: 0.5879 - val_loss: 1.1441 - val_accuracy: 0.5519\n",
      "Epoch 6/15\n",
      "62/62 [==============================] - 0s 8ms/step - loss: 0.8697 - accuracy: 0.6026 - val_loss: 1.0742 - val_accuracy: 0.5584\n",
      "Epoch 7/15\n",
      "62/62 [==============================] - 0s 8ms/step - loss: 0.8282 - accuracy: 0.6173 - val_loss: 1.0618 - val_accuracy: 0.5065\n",
      "Epoch 8/15\n",
      "62/62 [==============================] - 1s 9ms/step - loss: 0.7981 - accuracy: 0.6270 - val_loss: 1.0075 - val_accuracy: 0.5779\n",
      "Epoch 9/15\n",
      "62/62 [==============================] - 1s 9ms/step - loss: 0.7812 - accuracy: 0.6156 - val_loss: 0.9636 - val_accuracy: 0.5325\n",
      "Epoch 10/15\n",
      "62/62 [==============================] - 0s 8ms/step - loss: 0.7604 - accuracy: 0.6075 - val_loss: 0.9897 - val_accuracy: 0.5130\n",
      "Epoch 11/15\n",
      "62/62 [==============================] - 1s 11ms/step - loss: 0.7553 - accuracy: 0.6189 - val_loss: 0.9679 - val_accuracy: 0.5455\n",
      "Epoch 12/15\n",
      "62/62 [==============================] - 1s 9ms/step - loss: 0.7417 - accuracy: 0.6384 - val_loss: 0.8753 - val_accuracy: 0.5714\n",
      "Epoch 13/15\n",
      "62/62 [==============================] - 1s 10ms/step - loss: 0.7253 - accuracy: 0.6221 - val_loss: 0.8538 - val_accuracy: 0.5584\n",
      "Epoch 14/15\n",
      "62/62 [==============================] - 1s 9ms/step - loss: 0.7067 - accuracy: 0.6336 - val_loss: 0.8254 - val_accuracy: 0.5779\n",
      "Epoch 15/15\n",
      "62/62 [==============================] - 0s 7ms/step - loss: 0.7023 - accuracy: 0.6352 - val_loss: 0.8273 - val_accuracy: 0.5844\n"
     ]
    },
    {
     "data": {
      "text/plain": [
       "<tensorflow.python.keras.callbacks.History at 0x259695df8b0>"
      ]
     },
     "execution_count": 97,
     "metadata": {},
     "output_type": "execute_result"
    }
   ],
   "source": [
    "# training the model\n",
    "model.fit(X_train,y_train, epochs= 15, batch_size=10, validation_data=(X_test,y_test))"
   ]
  },
  {
   "cell_type": "code",
   "execution_count": 98,
   "id": "da200a31",
   "metadata": {},
   "outputs": [
    {
     "name": "stdout",
     "output_type": "stream",
     "text": [
      "5/5 [==============================] - 0s 3ms/step - loss: 0.8273 - accuracy: 0.5844\n",
      "[0.82732754945755, 0.5844155550003052]\n"
     ]
    }
   ],
   "source": [
    "score = model.evaluate(X_test,y_test)\n",
    "print(score)"
   ]
  },
  {
   "cell_type": "code",
   "execution_count": 99,
   "id": "6afc0f9c",
   "metadata": {},
   "outputs": [
    {
     "data": {
      "text/plain": [
       "58.44155550003052"
      ]
     },
     "execution_count": 99,
     "metadata": {},
     "output_type": "execute_result"
    }
   ],
   "source": [
    "score[1]*100"
   ]
  },
  {
   "cell_type": "code",
   "execution_count": 48,
   "id": "cf1eeb6e",
   "metadata": {},
   "outputs": [
    {
     "data": {
      "text/plain": [
       "['loss', 'accuracy']"
      ]
     },
     "execution_count": 48,
     "metadata": {},
     "output_type": "execute_result"
    }
   ],
   "source": [
    "model.metrics_names"
   ]
  },
  {
   "cell_type": "code",
   "execution_count": 100,
   "id": "e91ca0dc",
   "metadata": {},
   "outputs": [],
   "source": [
    "from sklearn.model_selection import StratifiedKFold\n",
    "skf = StratifiedKFold(n_splits=10)"
   ]
  },
  {
   "cell_type": "code",
   "execution_count": 101,
   "id": "599ab14c",
   "metadata": {},
   "outputs": [
    {
     "name": "stdout",
     "output_type": "stream",
     "text": [
      "accuracy:> Train: 70.19%       val: 68.83% \n",
      "accuracy:> Train: 75.40%       val: 71.43% \n",
      "accuracy:> Train: 77.28%       val: 72.73% \n",
      "accuracy:> Train: 75.11%       val: 72.73% \n",
      "accuracy:> Train: 75.69%       val: 74.03% \n",
      "accuracy:> Train: 72.36%       val: 71.43% \n",
      "accuracy:> Train: 76.85%       val: 75.32% \n",
      "accuracy:> Train: 78.44%       val: 75.32% \n",
      "accuracy:> Train: 77.46%       val: 75.00% \n",
      "accuracy:> Train: 76.16%       val: 76.32% \n",
      "accuracy:> Average Train: 76.16% (+/-) 0.00%      Average Val: 76.32% (+/-) 0.00% \n"
     ]
    }
   ],
   "source": [
    "for train_index, val_index in skf.split(X,y):\n",
    "    train_scores = []\n",
    "    val_scores = []\n",
    "    # getting the splitted train and validation set\n",
    "    train_set, train_target = X[train_index], y[train_index]\n",
    "    val_set, val_target = X[val_index], y[val_index]\n",
    "    \n",
    "    # create the model\n",
    "    model = Sequential()\n",
    "    model.add(Dense(12, input_dim=8, activation='relu'))\n",
    "    model.add(Dense(8, activation='relu'))\n",
    "    model.add(Dense(1, activation='sigmoid'))\n",
    "    \n",
    "    # compile the model\n",
    "    model.compile(loss='binary_crossentropy', optimizer='adam', metrics=['accuracy'])\n",
    "    # fitting the model on the train set\n",
    "    model.fit(train_set,train_target, verbose=0, epochs=150, batch_size=10)\n",
    "    \n",
    "    # evaluating the model\n",
    "    train_score = model.evaluate(train_set,train_target, verbose=0)\n",
    "    val_score = model.evaluate(val_set,val_target, verbose=0)\n",
    "    \n",
    "    train_scores.append(train_score[1])\n",
    "    val_scores.append(val_score[1])\n",
    "    \n",
    "    # printing the train and validation score for each fold\n",
    "    print('%s:> Train: %.2f%%       val: %.2f%% ' % (model.metrics_names[1], train_score[1]*100, val_score[1]*100))\n",
    "\n",
    "# printing the avaerage train and validation scores\n",
    "print('%s:> Average Train: %.2f%% (+/-) %.2f%%      Average Val: %.2f%% (+/-) %.2f%% ' % (model.metrics_names[1], np.mean(train_scores)*100,np.std(train_scores)*100, np.mean(val_scores)*100, np.std(val_scores)*100))"
   ]
  },
  {
   "cell_type": "markdown",
   "id": "0dd5716c",
   "metadata": {},
   "source": [
    "Using Keras with sci-kit learn"
   ]
  },
  {
   "cell_type": "code",
   "execution_count": 102,
   "id": "63ddeff1",
   "metadata": {},
   "outputs": [],
   "source": [
    "from sklearn.model_selection import cross_validate, cross_val_score\n",
    "from keras.wrappers.scikit_learn import KerasClassifier"
   ]
  },
  {
   "cell_type": "code",
   "execution_count": 113,
   "id": "04ce4afa",
   "metadata": {},
   "outputs": [],
   "source": [
    "def build_model():\n",
    "    model = Sequential()\n",
    "    model.add(Dense(units=12, input_dim=8, activation='relu'))\n",
    "    model.add(Dense(8, activation='relu'))\n",
    "    model.add(Dense(1,activation='sigmoid'))\n",
    "    \n",
    "    model.compile(loss='binary_crossentropy', optimizer='adam', metrics=['accuracy'])\n",
    "    model.summary()\n",
    "    return model"
   ]
  },
  {
   "cell_type": "code",
   "execution_count": 114,
   "id": "ea6aa1c1",
   "metadata": {},
   "outputs": [],
   "source": [
    "model = KerasClassifier(build_fn=build_model, verbose=0, epochs=150, batch_size=10)"
   ]
  },
  {
   "cell_type": "code",
   "execution_count": 110,
   "id": "b1fc120f",
   "metadata": {},
   "outputs": [],
   "source": [
    "kf = StratifiedKFold(n_splits=5, shuffle=True, random_state=42)"
   ]
  },
  {
   "cell_type": "code",
   "execution_count": 106,
   "id": "494de750",
   "metadata": {},
   "outputs": [],
   "source": [
    "results = cross_val_score(model,X,y, cv=kf)"
   ]
  },
  {
   "cell_type": "code",
   "execution_count": 107,
   "id": "011ac8ce",
   "metadata": {},
   "outputs": [
    {
     "data": {
      "text/plain": [
       "0.7395891785621643"
      ]
     },
     "execution_count": 107,
     "metadata": {},
     "output_type": "execute_result"
    }
   ],
   "source": [
    "results.mean()"
   ]
  },
  {
   "cell_type": "code",
   "execution_count": null,
   "id": "05572774",
   "metadata": {},
   "outputs": [],
   "source": []
  }
 ],
 "metadata": {
  "kernelspec": {
   "display_name": "Python 3",
   "language": "python",
   "name": "python3"
  },
  "language_info": {
   "codemirror_mode": {
    "name": "ipython",
    "version": 3
   },
   "file_extension": ".py",
   "mimetype": "text/x-python",
   "name": "python",
   "nbconvert_exporter": "python",
   "pygments_lexer": "ipython3",
   "version": "3.8.5"
  }
 },
 "nbformat": 4,
 "nbformat_minor": 5
}
